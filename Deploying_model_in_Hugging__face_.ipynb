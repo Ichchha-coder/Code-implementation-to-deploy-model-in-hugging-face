{
  "nbformat": 4,
  "nbformat_minor": 0,
  "metadata": {
    "colab": {
      "provenance": []
    },
    "kernelspec": {
      "name": "python3",
      "display_name": "Python 3"
    },
    "language_info": {
      "name": "python"
    }
  },
  "cells": [
    {
      "cell_type": "markdown",
      "source": [
        "**Import the libraries**"
      ],
      "metadata": {
        "id": "3J7C-a1pIhKQ"
      }
    },
    {
      "cell_type": "code",
      "source": [
        "from transformers import pipeline\n",
        "from huggingface_hub import HfApi"
      ],
      "metadata": {
        "id": "3PARQXMhIr9C"
      },
      "execution_count": null,
      "outputs": []
    },
    {
      "cell_type": "markdown",
      "source": [
        "**Load the model checkpoint**"
      ],
      "metadata": {
        "id": "YjpbXGdtIzLs"
      }
    },
    {
      "cell_type": "code",
      "source": [
        "savedmodel = pipeline('model_name ', model='location_of_model')\n",
        "# Example :  savedmodel = pipeline('text-analysis', model='D/saved_model')"
      ],
      "metadata": {
        "id": "c6F7KH6UI3TQ"
      },
      "execution_count": null,
      "outputs": []
    },
    {
      "cell_type": "markdown",
      "source": [
        "**Create the access token from hugging face library and add your token**\""
      ],
      "metadata": {
        "id": "x61CvQwCJS9C"
      }
    },
    {
      "cell_type": "code",
      "source": [
        "access_token = 'your_token'\n",
        "# Example access_token='bdjdjdjb'"
      ],
      "metadata": {
        "id": "3zvbmZu8JlAq"
      },
      "execution_count": null,
      "outputs": []
    },
    {
      "cell_type": "markdown",
      "source": [
        "**Initialize the HfApi**"
      ],
      "metadata": {
        "id": "ligjOjWtJxEJ"
      }
    },
    {
      "cell_type": "code",
      "source": [
        "api = HfApi(token=access_token)"
      ],
      "metadata": {
        "id": "iKnptUxYJ7Z8"
      },
      "execution_count": null,
      "outputs": []
    },
    {
      "cell_type": "markdown",
      "source": [
        "Replace your username and model name with your username and model name"
      ],
      "metadata": {
        "id": "eNJMNpQ6Kcol"
      }
    },
    {
      "cell_type": "code",
      "source": [
        "repo_name = 'your_user_name/model_name'\n",
        "# Example: repo_name = 'Hi123/classify'"
      ],
      "metadata": {
        "id": "9TxYPwTIKdq7"
      },
      "execution_count": null,
      "outputs": []
    },
    {
      "cell_type": "markdown",
      "source": [
        "**Create a new repository on the Hugging Face Hub**"
      ],
      "metadata": {
        "id": "xWFheeIYOAUv"
      }
    },
    {
      "cell_type": "code",
      "source": [
        "api.create_repo(repo_name, exist_ok=True)"
      ],
      "metadata": {
        "id": "61evEdkjOCue"
      },
      "execution_count": null,
      "outputs": []
    },
    {
      "cell_type": "markdown",
      "source": [
        "Upload model to hugging face"
      ],
      "metadata": {
        "id": "F9DnBYlROnsN"
      }
    },
    {
      "cell_type": "code",
      "source": [
        "api.upload_folder(\n",
        "    repo_name=repo_name,\n",
        "    folder_path='D/saved_model',\n",
        "    revision=\"main\",\n",
        "    commit_message=\"Upload model\",\n",
        "      commit_user=\"Your_username\",\n",
        "    commit_email=\"Your_email\"\n",
        ")"
      ],
      "metadata": {
        "id": "yWxkRauOOWA_"
      },
      "execution_count": null,
      "outputs": []
    }
  ]
}